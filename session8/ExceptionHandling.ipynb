{
 "cells": [
  {
   "cell_type": "markdown",
   "metadata": {},
   "source": [
    "# Exception Handling"
   ]
  },
  {
   "cell_type": "code",
   "execution_count": 1,
   "metadata": {},
   "outputs": [
    {
     "name": "stdout",
     "output_type": "stream",
     "text": [
      "Some error occured\n",
      "invalid literal for int() with base 10: ''\n"
     ]
    }
   ],
   "source": [
    "try:\n",
    "    a = int(input(\"Enter a number :  \"))\n",
    "    result = 100/a\n",
    "    print(result)\n",
    "\n",
    "except Exception as e :\n",
    "    print(\"Some error occured\")\n",
    "    print(e)"
   ]
  },
  {
   "cell_type": "code",
   "execution_count": 2,
   "metadata": {},
   "outputs": [
    {
     "name": "stdout",
     "output_type": "stream",
     "text": [
      "3.125\n",
      "No exceptions occurred\n",
      "This will always execute\n"
     ]
    }
   ],
   "source": [
    "try:\n",
    "    a = int(input(\"Enter any number  : \"))\n",
    "    result = 100/a\n",
    "    print(result)\n",
    "except ZeroDivisionError:\n",
    "    print(\"You can't divide by zero\")\n",
    "except ValueError:\n",
    "    print(\"Please enter a valid number\")\n",
    "except:\n",
    "    print(\"Something went wrong\")\n",
    "else:\n",
    "    print(\"No exceptions occurred\")\n",
    "finally:\n",
    "    print(\"This will always execute\")"
   ]
  },
  {
   "cell_type": "code",
   "execution_count": 4,
   "metadata": {},
   "outputs": [
    {
     "name": "stdout",
     "output_type": "stream",
     "text": [
      "16.666666666666668\n",
      "6\n"
     ]
    }
   ],
   "source": [
    "try:\n",
    "    a = int(input(\"Enter a number :  \"))\n",
    "    result = 100/a\n",
    "    print(result)\n",
    "\n",
    "except Exception as e :\n",
    "    print(\"Some error occured\")\n",
    "    print(e)\n",
    "\n",
    "finally:\n",
    "    print(a)"
   ]
  },
  {
   "cell_type": "code",
   "execution_count": 6,
   "metadata": {},
   "outputs": [
    {
     "name": "stdout",
     "output_type": "stream",
     "text": [
      "Some error occured\n",
      "[Errno 2] No such file or directory: 'abc.txt'\n"
     ]
    }
   ],
   "source": [
    "try:\n",
    "    with open(\"abc.txt\", mode=\"r\") as f:\n",
    "        f.read()\n",
    "\n",
    "except Exception as e :\n",
    "    print(\"Some error occured\")\n",
    "    print(e)"
   ]
  },
  {
   "cell_type": "code",
   "execution_count": null,
   "metadata": {},
   "outputs": [],
   "source": []
  }
 ],
 "metadata": {
  "kernelspec": {
   "display_name": "Python 3",
   "language": "python",
   "name": "python3"
  },
  "language_info": {
   "codemirror_mode": {
    "name": "ipython",
    "version": 3
   },
   "file_extension": ".py",
   "mimetype": "text/x-python",
   "name": "python",
   "nbconvert_exporter": "python",
   "pygments_lexer": "ipython3",
   "version": "3.12.3"
  }
 },
 "nbformat": 4,
 "nbformat_minor": 2
}
