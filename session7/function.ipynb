{
 "cells": [
  {
   "cell_type": "markdown",
   "metadata": {},
   "source": [
    "### Function -- A block of code resuable that perform a specific task. Function Take input and can return outputs. They allow you to oraganizee your code into smaller, more manageable peices and make it more modular  efficient and easier to read"
   ]
  },
  {
   "cell_type": "code",
   "execution_count": null,
   "metadata": {},
   "outputs": [],
   "source": [
    "## FUNCTION\n",
    "\n",
    "def func_name(arg1,arg2,arg3....):\n",
    "    #code\n",
    "    return value\n",
    "\n",
    "## FUNCTION CALL\n",
    "func_name(arg1,arg2,arg3....)"
   ]
  },
  {
   "cell_type": "code",
   "execution_count": 1,
   "metadata": {},
   "outputs": [
    {
     "name": "stdout",
     "output_type": "stream",
     "text": [
      "Hello, Himank!\n"
     ]
    }
   ],
   "source": [
    "def greet(name) :\n",
    "    print(\"Hello, \" + name + \"!\")\n",
    "\n",
    "\n",
    "greet(\"Himank\")"
   ]
  },
  {
   "cell_type": "code",
   "execution_count": 7,
   "metadata": {},
   "outputs": [
    {
     "name": "stdout",
     "output_type": "stream",
     "text": [
      "Name: Himank\n",
      "Age: 21\n",
      "Designation: Software Developer\n"
     ]
    }
   ],
   "source": [
    "def emp_info1(name, age, designation):\n",
    "    print(\"Name: \" + name)\n",
    "    print(\"Age: \" + str(age))\n",
    "    print(\"Designation: \" + designation)\n",
    "\n",
    "emp_info1(\"Himank\", 21, \"Software Developer\")"
   ]
  },
  {
   "cell_type": "code",
   "execution_count": 2,
   "metadata": {},
   "outputs": [
    {
     "name": "stdout",
     "output_type": "stream",
     "text": [
      "Name :  Himank\n",
      "Age :  21\n",
      "Designition :  Software Developer\n"
     ]
    }
   ],
   "source": [
    "def emp_info(name, age, designition) :\n",
    "    print(\"Name : \", name)\n",
    "    print(\"Age : \", age)\n",
    "    print(\"Designition : \", designition)\n",
    "\n",
    "emp_info(\"Himank\", 21, \"Software Developer\")"
   ]
  },
  {
   "cell_type": "markdown",
   "metadata": {},
   "source": [
    "# f-string"
   ]
  },
  {
   "cell_type": "code",
   "execution_count": 9,
   "metadata": {},
   "outputs": [
    {
     "name": "stdout",
     "output_type": "stream",
     "text": [
      "My name is Himank. I am 23 old and I am a Data Scientist\n"
     ]
    }
   ],
   "source": [
    "def emp_info3(name, age, designition) :\n",
    "\n",
    "    print(f'My name is {name}. I am {age} old and I am a {designition}')\n",
    "\n",
    "emp_info3(\"Himank\", 23, \"Data Scientist\")"
   ]
  },
  {
   "cell_type": "code",
   "execution_count": 10,
   "metadata": {},
   "outputs": [
    {
     "name": "stdout",
     "output_type": "stream",
     "text": [
      "My name is Himank. I am 23 old and I am a Data Scientist\n"
     ]
    }
   ],
   "source": [
    "def emp_info3(name, age, designition) :\n",
    "\n",
    "    print('My name is {}. I am {} old and I am a {}'.format( name, age, designition))\n",
    "\n",
    "emp_info3(\"Himank\", 23, \"Data Scientist\")"
   ]
  },
  {
   "cell_type": "markdown",
   "metadata": {},
   "source": [
    "# Ways to define  a function\n",
    "\n",
    "##### with argumrnt without return\n",
    "##### without argument with return\n",
    "##### with argument with return\n",
    "##### without argument without return "
   ]
  },
  {
   "cell_type": "markdown",
   "metadata": {},
   "source": [
    "## inbuilt function"
   ]
  },
  {
   "cell_type": "code",
   "execution_count": 17,
   "metadata": {},
   "outputs": [
    {
     "data": {
      "text/plain": [
       "771"
      ]
     },
     "execution_count": 17,
     "metadata": {},
     "output_type": "execute_result"
    }
   ],
   "source": [
    "lst = [12,123,123,12,312,31,23,123,12]\n",
    "\n",
    "min(lst)\n",
    "max(lst)\n",
    "sorted(lst)\n",
    "sum(lst)\n"
   ]
  },
  {
   "cell_type": "code",
   "execution_count": 21,
   "metadata": {},
   "outputs": [],
   "source": [
    "def lenn(data) :\n",
    "\n",
    "    count = 0\n",
    "    for i  in data :\n",
    "        count += 1\n",
    "    return count"
   ]
  },
  {
   "cell_type": "code",
   "execution_count": 22,
   "metadata": {},
   "outputs": [
    {
     "data": {
      "text/plain": [
       "9"
      ]
     },
     "execution_count": 22,
     "metadata": {},
     "output_type": "execute_result"
    }
   ],
   "source": [
    "lenn(lst)"
   ]
  },
  {
   "cell_type": "markdown",
   "metadata": {},
   "source": [
    "### Lambda Function --- anonymous function it is written in one line"
   ]
  },
  {
   "cell_type": "code",
   "execution_count": 24,
   "metadata": {},
   "outputs": [
    {
     "data": {
      "text/plain": [
       "12"
      ]
     },
     "execution_count": 24,
     "metadata": {},
     "output_type": "execute_result"
    }
   ],
   "source": [
    "x = lambda a, b : a+b\n",
    "\n",
    "x(5,7)"
   ]
  },
  {
   "cell_type": "code",
   "execution_count": 25,
   "metadata": {},
   "outputs": [
    {
     "data": {
      "text/plain": [
       "12"
      ]
     },
     "execution_count": 25,
     "metadata": {},
     "output_type": "execute_result"
    }
   ],
   "source": [
    "x = lambda a  : a+ 7\n",
    "\n",
    "x(5)\n"
   ]
  },
  {
   "cell_type": "code",
   "execution_count": 26,
   "metadata": {},
   "outputs": [
    {
     "data": {
      "text/plain": [
       "'Hello Himank, How are you'"
      ]
     },
     "execution_count": 26,
     "metadata": {},
     "output_type": "execute_result"
    }
   ],
   "source": [
    "lam = lambda x: x + \"How are you\"\n",
    "lam(\"Hello Himank, \")\n",
    "\n"
   ]
  },
  {
   "cell_type": "code",
   "execution_count": 27,
   "metadata": {},
   "outputs": [
    {
     "data": {
      "text/plain": [
       "<map at 0x14c35e31030>"
      ]
     },
     "execution_count": 27,
     "metadata": {},
     "output_type": "execute_result"
    }
   ],
   "source": [
    "map(lambda a: a%2==0, lst)"
   ]
  },
  {
   "cell_type": "code",
   "execution_count": 30,
   "metadata": {},
   "outputs": [
    {
     "data": {
      "text/plain": [
       "[12, 12, 312, 12]"
      ]
     },
     "execution_count": 30,
     "metadata": {},
     "output_type": "execute_result"
    }
   ],
   "source": [
    "even = list(filter(lambda a: a%2==0, lst))\n",
    "even"
   ]
  },
  {
   "cell_type": "code",
   "execution_count": 32,
   "metadata": {},
   "outputs": [
    {
     "data": {
      "text/plain": [
       "[123, 123, 31, 23, 123]"
      ]
     },
     "execution_count": 32,
     "metadata": {},
     "output_type": "execute_result"
    }
   ],
   "source": [
    "odd = list(filter(lambda a: a%2 !=0, lst))\n",
    "odd"
   ]
  }
 ],
 "metadata": {
  "kernelspec": {
   "display_name": "Python 3",
   "language": "python",
   "name": "python3"
  },
  "language_info": {
   "codemirror_mode": {
    "name": "ipython",
    "version": 3
   },
   "file_extension": ".py",
   "mimetype": "text/x-python",
   "name": "python",
   "nbconvert_exporter": "python",
   "pygments_lexer": "ipython3",
   "version": "3.12.3"
  }
 },
 "nbformat": 4,
 "nbformat_minor": 2
}
