{
 "cells": [
  {
   "cell_type": "markdown",
   "metadata": {},
   "source": [
    "##### conditional statement to perform different action based on different conditions  \n",
    "##### Syntax :\n",
    "        if condition1:\n",
    "        statement1\n",
    "        elif condition2:\n",
    "        statement2\n",
    "        else:\n",
    "        statement3\n",
    "        \n",
    "\n",
    "##### Operator used to create condition\\\n",
    "\n",
    "### == equals\n",
    "!= not equals\n",
    "< less than\n",
    "> greater than\n",
    "<= less than or equal to\n",
    ">= greater than or equal to\n"
   ]
  },
  {
   "cell_type": "markdown",
   "metadata": {},
   "source": [
    "#### Syntax\n",
    "\n",
    " if condition:\n",
    "     block of code\n",
    "\n",
    " elif condition:\n",
    "     block of code\n",
    " \n",
    " else:\n",
    "     block of code"
   ]
  },
  {
   "cell_type": "code",
   "execution_count": 2,
   "metadata": {},
   "outputs": [
    {
     "name": "stdout",
     "output_type": "stream",
     "text": [
      "a is less than 8\n"
     ]
    }
   ],
   "source": [
    "a = 7\n",
    "\n",
    "if a < 8:\n",
    "    print(\"a is less than 8\")\n",
    "else :\n",
    "    print(\"a is greater than or equal to 8\")"
   ]
  },
  {
   "cell_type": "code",
   "execution_count": 3,
   "metadata": {},
   "outputs": [
    {
     "name": "stdout",
     "output_type": "stream",
     "text": [
      "You are old enough to vote\n"
     ]
    }
   ],
   "source": [
    "age =18\n",
    "\n",
    "if age >= 18 :\n",
    "    print(\"You are old enough to vote\")\n",
    "else :\n",
    "    print(\"You are not old enough to vote\")"
   ]
  },
  {
   "cell_type": "markdown",
   "metadata": {},
   "source": [
    "if -elif -else"
   ]
  },
  {
   "cell_type": "code",
   "execution_count": 4,
   "metadata": {},
   "outputs": [
    {
     "name": "stdout",
     "output_type": "stream",
     "text": [
      "x is positive\n"
     ]
    }
   ],
   "source": [
    "x = 6\n",
    "\n",
    "if x < 0 :\n",
    "    print(\"x is negative\")\n",
    "elif x == 0 :\n",
    "    print(\"x is zero\")\n",
    "else :\n",
    "    print(\"x is positive\")\n"
   ]
  },
  {
   "cell_type": "code",
   "execution_count": 6,
   "metadata": {},
   "outputs": [
    {
     "data": {
      "text/plain": [
       "True"
      ]
     },
     "execution_count": 6,
     "metadata": {},
     "output_type": "execute_result"
    }
   ],
   "source": [
    "# User Input\n",
    "\n",
    "input(\"Enter Your name\")\n",
    "bool(input)"
   ]
  },
  {
   "cell_type": "markdown",
   "metadata": {},
   "source": [
    "#### Nested If- else\n"
   ]
  },
  {
   "cell_type": "code",
   "execution_count": 12,
   "metadata": {},
   "outputs": [
    {
     "name": "stdout",
     "output_type": "stream",
     "text": [
      "\n",
      "x is between 10 and 20\n"
     ]
    }
   ],
   "source": [
    "\n",
    "x = int(input(\"Enter any number  : \"))\n",
    "print()\n",
    "\n",
    "if x >= 10 :\n",
    "    if x<= 20 :\n",
    "        print(\"x is between 10 and 20\")\n",
    "    else :\n",
    "        print(\"x is greater than 20\")\n",
    "else :\n",
    "    print(\"x is less than 10\")"
   ]
  },
  {
   "cell_type": "markdown",
   "metadata": {},
   "source": [
    "### Iterative Statement - LOOPS"
   ]
  },
  {
   "cell_type": "code",
   "execution_count": 14,
   "metadata": {},
   "outputs": [
    {
     "data": {
      "text/plain": [
       "[1, 2, 5, 27, 17, 8, 3, 5, 7]"
      ]
     },
     "execution_count": 14,
     "metadata": {},
     "output_type": "execute_result"
    }
   ],
   "source": [
    "lst= [1,2,5,27,17,8,3,5,7]\n",
    "lst"
   ]
  },
  {
   "cell_type": "code",
   "execution_count": 17,
   "metadata": {},
   "outputs": [
    {
     "data": {
      "text/plain": [
       "[5, 27, 17]"
      ]
     },
     "execution_count": 17,
     "metadata": {},
     "output_type": "execute_result"
    }
   ],
   "source": [
    "lst[2:5]"
   ]
  },
  {
   "cell_type": "code",
   "execution_count": 18,
   "metadata": {},
   "outputs": [
    {
     "name": "stdout",
     "output_type": "stream",
     "text": [
      "1\n",
      "2\n",
      "5\n",
      "27\n",
      "17\n",
      "8\n",
      "3\n",
      "5\n",
      "7\n"
     ]
    }
   ],
   "source": [
    "for i in lst :\n",
    "    print(i)"
   ]
  },
  {
   "cell_type": "markdown",
   "metadata": {},
   "source": [
    "WHILE LOOP = repeatdly execute the block of code until condition is satisfied"
   ]
  },
  {
   "cell_type": "code",
   "execution_count": 21,
   "metadata": {},
   "outputs": [
    {
     "name": "stdout",
     "output_type": "stream",
     "text": [
      "1\n",
      "2\n",
      "3\n",
      "4\n",
      "5\n",
      "6\n",
      "7\n",
      "8\n",
      "9\n",
      "10\n"
     ]
    }
   ],
   "source": [
    "x = 0\n",
    "\n",
    "while x < 10 :\n",
    "    x += 1\n",
    "    print(x)"
   ]
  },
  {
   "cell_type": "code",
   "execution_count": 22,
   "metadata": {},
   "outputs": [
    {
     "name": "stdout",
     "output_type": "stream",
     "text": [
      "You are not old enough to vote\n",
      "You are not old enough to vote\n",
      "You are not old enough to vote\n",
      "You are not old enough to vote\n",
      "You are not old enough to vote\n",
      "You are not old enough to vote\n",
      "You are not old enough to vote\n",
      "You are not old enough to vote\n",
      "You are not old enough to vote\n",
      "You are not old enough to vote\n",
      "You are not old enough to vote\n",
      "You are not old enough to vote\n",
      "You are not old enough to vote\n",
      "You are not old enough to vote\n",
      "You are not old enough to vote\n",
      "You are not old enough to vote\n",
      "You are not old enough to vote\n",
      "You are old enough to vote\n"
     ]
    }
   ],
   "source": [
    "age = 1\n",
    "\n",
    "while age < 18 :\n",
    "    print(\"You are not old enough to vote\")\n",
    "    age += 1\n",
    "    \n",
    "print(\"You are old enough to vote\")"
   ]
  },
  {
   "cell_type": "markdown",
   "metadata": {},
   "source": [
    "### For Loop = "
   ]
  },
  {
   "cell_type": "code",
   "execution_count": 23,
   "metadata": {},
   "outputs": [
    {
     "name": "stdout",
     "output_type": "stream",
     "text": [
      "1\n",
      "2\n",
      "5\n",
      "27\n",
      "17\n",
      "8\n",
      "3\n",
      "5\n",
      "7\n"
     ]
    }
   ],
   "source": [
    "lst= [1,2,5,27,17,8,3,5,7]\n",
    "for i in lst :\n",
    "    print(i)"
   ]
  },
  {
   "cell_type": "code",
   "execution_count": 41,
   "metadata": {},
   "outputs": [],
   "source": [
    "fruits =  [\"apple\", \"orange\", \"Mango\", \"Kiwi\", \"Watermelon\", \"Chiku\"]\n",
    "\n",
    "for fruit in fruits :\n",
    "    if fruit != \"kiwi\" :\n",
    "         continue\n",
    "    else :\n",
    "          print(fruits)\n",
    "    "
   ]
  },
  {
   "cell_type": "markdown",
   "metadata": {},
   "source": [
    "##### Break - your loop is terminated by using break keyword"
   ]
  },
  {
   "cell_type": "code",
   "execution_count": 34,
   "metadata": {},
   "outputs": [
    {
     "name": "stdout",
     "output_type": "stream",
     "text": [
      "0\n",
      "1\n",
      "2\n",
      "3\n",
      "4\n"
     ]
    }
   ],
   "source": [
    "for i in range(10):\n",
    "    if i == 5:\n",
    "        break\n",
    "    print(i)"
   ]
  },
  {
   "cell_type": "markdown",
   "metadata": {},
   "source": [
    "#### Continue --- The continue statement in Python is used to skip the rest of the code inside the current loop for the current iteration only. The loop does not terminate but continues with the next iteration.\n",
    "\n"
   ]
  },
  {
   "cell_type": "code",
   "execution_count": 35,
   "metadata": {},
   "outputs": [
    {
     "name": "stdout",
     "output_type": "stream",
     "text": [
      "0\n",
      "1\n",
      "2\n",
      "3\n",
      "4\n",
      "6\n",
      "7\n",
      "8\n",
      "9\n"
     ]
    }
   ],
   "source": [
    "for i in range(10):\n",
    "    if i == 5:\n",
    "        continue\n",
    "    print(i)"
   ]
  },
  {
   "cell_type": "markdown",
   "metadata": {},
   "source": [
    "Pass Statement"
   ]
  },
  {
   "cell_type": "code",
   "execution_count": null,
   "metadata": {},
   "outputs": [],
   "source": []
  }
 ],
 "metadata": {
  "kernelspec": {
   "display_name": "Python 3",
   "language": "python",
   "name": "python3"
  },
  "language_info": {
   "codemirror_mode": {
    "name": "ipython",
    "version": 3
   },
   "file_extension": ".py",
   "mimetype": "text/x-python",
   "name": "python",
   "nbconvert_exporter": "python",
   "pygments_lexer": "ipython3",
   "version": "3.12.3"
  }
 },
 "nbformat": 4,
 "nbformat_minor": 2
}
